{
 "cells": [
  {
   "cell_type": "code",
   "execution_count": 1,
   "id": "initial_id",
   "metadata": {
    "ExecuteTime": {
     "end_time": "2024-03-05T00:22:57.273708Z",
     "start_time": "2024-03-05T00:22:57.200884300Z"
    },
    "collapsed": true
   },
   "outputs": [
    {
     "ename": "ModuleNotFoundError",
     "evalue": "No module named 'src'",
     "output_type": "error",
     "traceback": [
      "\u001B[0;31m---------------------------------------------------------------------------\u001B[0m",
      "\u001B[0;31mModuleNotFoundError\u001B[0m                       Traceback (most recent call last)",
      "\u001B[0;32m/tmp/ipykernel_2985/3090242078.py\u001B[0m in \u001B[0;36m<module>\u001B[0;34m\u001B[0m\n\u001B[1;32m      1\u001B[0m \u001B[0;32mfrom\u001B[0m \u001B[0mpathlib\u001B[0m \u001B[0;32mimport\u001B[0m \u001B[0mPath\u001B[0m\u001B[0;34m\u001B[0m\u001B[0;34m\u001B[0m\u001B[0m\n\u001B[1;32m      2\u001B[0m \u001B[0;34m\u001B[0m\u001B[0m\n\u001B[0;32m----> 3\u001B[0;31m \u001B[0;32mfrom\u001B[0m \u001B[0msrc\u001B[0m\u001B[0;34m.\u001B[0m\u001B[0mcode\u001B[0m\u001B[0;34m.\u001B[0m\u001B[0mcorpus\u001B[0m \u001B[0;32mimport\u001B[0m \u001B[0mCranCorpus\u001B[0m\u001B[0;34m\u001B[0m\u001B[0;34m\u001B[0m\u001B[0m\n\u001B[0m\u001B[1;32m      4\u001B[0m \u001B[0;32mfrom\u001B[0m \u001B[0msrc\u001B[0m\u001B[0;34m.\u001B[0m\u001B[0mcode\u001B[0m\u001B[0;34m.\u001B[0m\u001B[0mevaluation_metrics\u001B[0m \u001B[0;32mimport\u001B[0m \u001B[0mprecision\u001B[0m\u001B[0;34m,\u001B[0m \u001B[0mrecall\u001B[0m\u001B[0;34m,\u001B[0m \u001B[0mf1\u001B[0m\u001B[0;34m\u001B[0m\u001B[0;34m\u001B[0m\u001B[0m\n\u001B[1;32m      5\u001B[0m \u001B[0;32mfrom\u001B[0m \u001B[0msrc\u001B[0m\u001B[0;34m.\u001B[0m\u001B[0mcode\u001B[0m\u001B[0;34m.\u001B[0m\u001B[0mmodels\u001B[0m \u001B[0;32mimport\u001B[0m \u001B[0mVectorModel\u001B[0m\u001B[0;34m,\u001B[0m \u001B[0mBooleanModel\u001B[0m\u001B[0;34m,\u001B[0m \u001B[0mExtendedBooleanModel\u001B[0m\u001B[0;34m\u001B[0m\u001B[0;34m\u001B[0m\u001B[0m\n",
      "\u001B[0;31mModuleNotFoundError\u001B[0m: No module named 'src'"
     ]
    }
   ],
   "source": [
    "from pathlib import Path\n",
    "\n",
    "from src.code.corpus import CranCorpus\n",
    "from src.code.evaluation_metrics import precision, recall, f1\n",
    "from src.code.models import VectorModel, BooleanModel, ExtendedBooleanModel\n",
    "from src.code.utils import get_cran_queries"
   ]
  },
  {
   "cell_type": "code",
   "execution_count": null,
   "id": "5bdab1001d105843",
   "metadata": {
    "ExecuteTime": {
     "start_time": "2024-03-05T00:22:57.271973300Z"
    },
    "collapsed": false
   },
   "outputs": [],
   "source": [
    "corpus = CranCorpus(Path('../../data/corpus/cranfield'), language='english', stemming=True)\n",
    "print('Corpus Built')\n",
    "\n",
    "vector_model = VectorModel(corpus)\n",
    "\n",
    "boolean_model = BooleanModel(corpus)\n",
    "\n",
    "extended_boolean_model = ExtendedBooleanModel(corpus)\n",
    "\n",
    "doc_ids = [doc.doc_id for doc in corpus.documents]\n",
    "doc_set = set(doc_ids)\n",
    "\n",
    "queries, qrels = get_cran_queries()\n",
    "\n",
    "query_ids = [q.query_id for q in queries]\n",
    "\n",
    "\n",
    "\n",
    "for q in:\n",
    "    query = q.text\n",
    "    print(f'query: {query}')\n",
    "    # print(f'boolean result: {boolean_model.query(query)}')\n",
    "    # print(f'vector result: {vector_model.query(query)}')\n",
    "    ranked_documents = extended_boolean_model.ranking_function(query)\n",
    "    vector = [doc.doc_id for doc in vector_model.query(query)]\n",
    "    extended_boolean = [doc[0] for doc in extended_boolean_model.ranking_function1(query)]\n",
    "    intersect = set(vector) & set(extended_boolean)\n",
    "    print(f'intersect {len(intersect)}')\n",
    "    print(f'extended boolean:{len(extended_boolean)}')\n",
    "    print(f'vector: {len(vector)}')\n",
    "    # print(f'extended boolean result 1:{ranked_documents}')\n",
    "    # print(f'extended boolean result 2:{extended_boolean_model.ranking_function1(query)}')\n",
    "    # extended_boolean_model.user_feedback(query, [4,2], [doc for doc, rank in ranked_documents])\n",
    "    # extended_boolean_model.pseudo_feedback(query, ranked_documents, 1)\n",
    "    # recommended_documents = extended_boolean_model.get_recommended_documents()\n",
    "    # print(f'recommended documents: {recommended_documents}')"
   ]
  },
  {
   "cell_type": "code",
   "execution_count": null,
   "id": "8c0e4c354e9e4467",
   "metadata": {
    "ExecuteTime": {
     "start_time": "2024-03-05T00:22:57.277124900Z"
    },
    "collapsed": false
   },
   "outputs": [],
   "source": [
    "precisions_bool = []\n",
    "recalls_bool = []\n",
    "f1s_bool = []\n",
    "f3s_bool = []\n",
    "r_precisions_bool = []\n",
    "\n",
    "precisions = []\n",
    "recalls = []\n",
    "f1s = []\n",
    "f3s = []\n",
    "r_precisions = []\n",
    "\n",
    "for query_to_test in queries:\n",
    "    query_id = query_to_test.quer_id\n",
    "\n",
    "    boolean_retrieved_documents = [doc.doc_id for doc in boolean_model.query(query_to_test.text)]\n",
    "    extended_boolean_retrieved_documents = [doc.doc_id for doc in extended_boolean_model.query(query_to_test.text)]\n",
    "    relevant_document = [qrel.doc_id for qrel in relevant_documents.get(query_id)]\n",
    "\n",
    "    # Calculate metrics for the boolean model\n",
    "    precisions_bool.append(precision(boolean_retrieved_documents, relevant_document))\n",
    "    recalls_bool.append(recall(boolean_retrieved_documents, relevant_documents))\n",
    "    f1s_bool.append(f1(boolean_retrieved_documents, relevant_documents))\n",
    "\n",
    "    # Calculate metrics for the extended boolean model\n",
    "    precisions.append(precision(extended_boolean_retrieved_documents, relevant_document))\n",
    "    recalls.append(recall(extended_boolean_retrieved_documents, relevant_documents))\n",
    "    f1s_bool.append(f1(extended_boolean_retrieved_documents, relevant_documents))\n"
   ]
  },
  {
   "cell_type": "code",
   "execution_count": null,
   "id": "d91dd5d272613371",
   "metadata": {
    "ExecuteTime": {
     "end_time": "2024-03-05T00:22:57.280459Z",
     "start_time": "2024-03-05T00:22:57.278262100Z"
    },
    "collapsed": false
   },
   "outputs": [],
   "source": []
  }
 ],
 "metadata": {
  "kernelspec": {
   "display_name": "Python 3",
   "language": "python",
   "name": "python3"
  },
  "language_info": {
   "codemirror_mode": {
    "name": "ipython",
    "version": 3
   },
   "file_extension": ".py",
   "mimetype": "text/x-python",
   "name": "python",
   "nbconvert_exporter": "python",
   "pygments_lexer": "ipython3",
   "version": "3.9.13"
  }
 },
 "nbformat": 4,
 "nbformat_minor": 5
}
